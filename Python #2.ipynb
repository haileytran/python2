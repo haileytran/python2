{
 "cells": [
  {
   "cell_type": "markdown",
   "metadata": {},
   "source": [
    "# <font size=\"15\"> Python #2 </font>\n",
    "## Table of Contents:  \n",
    "1. [Python Basics](#section1)  \n",
    "   1.1 [Errors](#section1.1)  \n",
    "    1.2 [Comments](#section1.2)  \n",
    "    1.3 [Assignment Statments](#section1.3)  \n",
    "    1.4 [Functions](#section1.4)  \n",
    "    1.5 [Importing Code](#section1.5)    \n",
    "## Contact:\n",
    "[Hailey Tran](mailto:hailey.tran@berkeley.edu) \n",
    "\n",
    "\n",
    "After today you will know how to:\n",
    "1. Understand and execute essential Python code"
   ]
  },
  {
   "cell_type": "markdown",
   "metadata": {},
   "source": [
    "<a id='section1'></a>\n",
    "# Part 1: Python Basics"
   ]
  },
  {
   "cell_type": "markdown",
   "metadata": {},
   "source": [
    "<a id='section3.1'></a>\n",
    "### 1.1 Errors\n",
    "Python has grammer rules, just like any other language you learn. In order for the computer to understand and execute your code, these grammar rules must be followed. We will look at one of the most common type of errors:\n",
    "\n",
    "   - `SyntaxError`: the \"grammar rules\" are not being followed\n",
    "\n",
    "\n",
    "Run the cell below and notice the error."
   ]
  },
  {
   "cell_type": "code",
   "execution_count": null,
   "metadata": {},
   "outputs": [],
   "source": [
    "print(\"This is an unclosed line.'"
   ]
  },
  {
   "cell_type": "markdown",
   "metadata": {},
   "source": [
    "Lets break this error message down.\n",
    "\n",
    "- The note that comes after `SyntaxError`, tells us the problem with the code.\n",
    "    - \"`EOF`\" means \"end of file\".\n",
    "    - The small carrot `^` points to the part of the code where the error is made.\n",
    "\n",
    "**Question 1.1.1.** Fix the code above to sucessfully run the cell. "
   ]
  },
  {
   "cell_type": "markdown",
   "metadata": {},
   "source": [
    "<a id='section3.1'></a>\n",
    "### 1.2 Comments\n",
    "A comment is a line of code that the computer ignores and does not run. \n",
    "\n",
    "Why do we need this? When code has hundreds or even thousands of lines, it can get confusing and hard to understand the goal of your code. Adding comments allows you to detail what the code is doing in english. This is also important to other programmers you are working with to understand the logic behind your code.\n",
    "\n",
    "To add a comment, use a `#` symbol.\n",
    "\n",
    "Run the code below and notice how the comment has no effect on the output."
   ]
  },
  {
   "cell_type": "code",
   "execution_count": null,
   "metadata": {},
   "outputs": [],
   "source": [
    "#Today's date \n",
    "date = \"July 16\"\n",
    "date"
   ]
  },
  {
   "cell_type": "markdown",
   "metadata": {},
   "source": [
    "**Question 1.2.1** Add a comment to the cell below detailing what is happening. "
   ]
  },
  {
   "cell_type": "code",
   "execution_count": null,
   "metadata": {},
   "outputs": [],
   "source": [
    "pi = 22/7\n",
    "pi"
   ]
  },
  {
   "cell_type": "markdown",
   "metadata": {},
   "source": [
    "<a id='section3.3'></a>\n",
    "### 1.3 Assignment Statements\n",
    "\n",
    "When we speak we don't say, \"WOW look at that orange mammal with black stripes on it!\" Instead, we say, \"Tiger!\"\n",
    "\n",
    "Python can also do that same sort of classfication using assignment statements. These statements assign variables to expressions. The variable name is simply to label the value of the expression. The syntax is as followed `variable = expression`. Python will evaluate the expression on the right side of the `=` and then store it to the variable on the left of the `=`. Everytime you call that varible in your code now, Python will insert the evaluated expression.\n",
    "\n",
    "Note: \n",
    "1. Variables cannot start with a number like `4` but, `four` will work.\n",
    "2. Variables are case senstive, meaning `tiger` is different from `Tiger`.\n",
    "3. Instead of spaces, we use an underscore `_` to seperate words in a variable."
   ]
  },
  {
   "cell_type": "code",
   "execution_count": null,
   "metadata": {},
   "outputs": [],
   "source": [
    "year = 2020"
   ]
  },
  {
   "cell_type": "markdown",
   "metadata": {},
   "source": [
    "Notice how no output was displayed? This is because Python stored the expression into the variable `year`. To display the expression, call the variable.\n",
    "\n",
    "Run the cell below:"
   ]
  },
  {
   "cell_type": "code",
   "execution_count": null,
   "metadata": {},
   "outputs": [],
   "source": [
    "year"
   ]
  },
  {
   "cell_type": "markdown",
   "metadata": {},
   "source": [
    "If no value or expression has been assigned to a name, Python will return a NameError:"
   ]
  },
  {
   "cell_type": "code",
   "execution_count": null,
   "metadata": {},
   "outputs": [],
   "source": [
    "favorite_color"
   ]
  },
  {
   "cell_type": "markdown",
   "metadata": {},
   "source": [
    "**Question 1.3.1** Assign a string to `favorite_color` below:"
   ]
  },
  {
   "cell_type": "code",
   "execution_count": null,
   "metadata": {},
   "outputs": [],
   "source": [
    "favorite_color = \n",
    "favorite_color"
   ]
  },
  {
   "cell_type": "markdown",
   "metadata": {},
   "source": [
    "Another important aspect of assignment statements is to compute calculations. Complex computations can now be done  in stages making it easier to keep track of your work. Also, like comments, assignment statements help you to understand what your code is doing. "
   ]
  },
  {
   "cell_type": "code",
   "execution_count": null,
   "metadata": {},
   "outputs": [],
   "source": [
    "rent = 500\n",
    "months = 3\n",
    "total_rent_paid = rent* months\n",
    "total_rent_paid"
   ]
  },
  {
   "cell_type": "markdown",
   "metadata": {},
   "source": [
    "**Question 1.3.2** Assign the name `seconds_in_a_day` to the number of seconds in a day. "
   ]
  },
  {
   "cell_type": "code",
   "execution_count": null,
   "metadata": {},
   "outputs": [],
   "source": [
    "# Try using the Arithmetic functions previously taught in this lesson to solve the problem.\n",
    "\n",
    "seconds_in_a_day = \n",
    "\n",
    "#Hint: your output should have a 4 in it.\n",
    "seconds_in_a_day"
   ]
  },
  {
   "cell_type": "markdown",
   "metadata": {},
   "source": [
    "<a id='section3.4'></a>\n",
    "### 1.4 Functions\n",
    "A function is a statement that takes in an input, does some specific computation on it, and then generates an output. The syntax of a function looks like this: `function(argument)`. The argument can also be called the input or parameter. \n"
   ]
  },
  {
   "cell_type": "markdown",
   "metadata": {},
   "source": [
    "A common function that we have seen before:"
   ]
  },
  {
   "cell_type": "code",
   "execution_count": null,
   "metadata": {},
   "outputs": [],
   "source": []
  },
  {
   "cell_type": "markdown",
   "metadata": {},
   "source": [
    "Python has a set of built-in functions that are very important and simple to use. Lets look at a few down below!"
   ]
  },
  {
   "cell_type": "code",
   "execution_count": null,
   "metadata": {},
   "outputs": [],
   "source": [
    "max([3,2,1])"
   ]
  },
  {
   "cell_type": "code",
   "execution_count": null,
   "metadata": {},
   "outputs": [],
   "source": [
    "min([3,2,1])"
   ]
  },
  {
   "cell_type": "code",
   "execution_count": null,
   "metadata": {},
   "outputs": [],
   "source": [
    "#Run this cell \n",
    "# round() rounds the output to the nearest integer\n",
    "pi_rounded = round(3.14)\n",
    "pi_rounded"
   ]
  },
  {
   "cell_type": "markdown",
   "metadata": {},
   "source": [
    "**Question 1.4.1** Use a function to find the biggest number in the list, `random_data` ."
   ]
  },
  {
   "cell_type": "code",
   "execution_count": null,
   "metadata": {},
   "outputs": [],
   "source": [
    "random_data = [2,4,5,6,3,45,6,34,23,78,234,567,34,23456,2342,42345,5675,678,2323,7989,123,1234,768,8090,]\n"
   ]
  },
  {
   "cell_type": "markdown",
   "metadata": {},
   "source": [
    "<a id='section3.5'></a>\n",
    "### 1.5 Importing Code\n",
    "\n",
    "Python has built-in functions that are previously defined by other people. These functions come in packages that can be imported and used by anyone.\n",
    "\n",
    "Let's look at the `import math` function. Run the cell below."
   ]
  },
  {
   "cell_type": "code",
   "execution_count": null,
   "metadata": {},
   "outputs": [],
   "source": [
    "import math\n",
    "\n",
    "print(math.pi)\n",
    "print(math.tan(0))"
   ]
  },
  {
   "cell_type": "markdown",
   "metadata": {},
   "source": [
    "Here are some of the functions you can use in the `math` notebook:\n",
    "\n",
    "|Method Name|Value|\n",
    "|-|-|\n",
    "|`cos(x)`|returns the cosine of x radians|\n",
    "|`sin(x)`|returns the sine of x radians|\n",
    "|`tan(x)`|returns the tangent of x radians|\n",
    "|`e`|returns the value of *e*|\n",
    "|`pi`|returns the value of pi (3.14)|\n",
    "|`factorial`| calculates factorials|\n",
    "|`log(logarithm, base)`|calculates logarithms. The first number is the logarithm and the second number is the base.|\n",
    "|`sqrt`| calculates square roots|"
   ]
  },
  {
   "cell_type": "markdown",
   "metadata": {},
   "source": [
    "**Question 1.5.1** \n",
    "\n",
    "Write this code in the following lines! \n",
    "\n",
    "**Hint**: Just stating the function does not tell python where to get it from. Remember to write `math.` before each function\n",
    "$$sin(\\pi)$$"
   ]
  },
  {
   "cell_type": "code",
   "execution_count": null,
   "metadata": {},
   "outputs": [],
   "source": []
  },
  {
   "cell_type": "markdown",
   "metadata": {},
   "source": [
    "$$\\sqrt(144)$$"
   ]
  },
  {
   "cell_type": "code",
   "execution_count": null,
   "metadata": {},
   "outputs": [],
   "source": []
  },
  {
   "cell_type": "markdown",
   "metadata": {},
   "source": [
    "$$\\log(7,10)$$"
   ]
  },
  {
   "cell_type": "code",
   "execution_count": null,
   "metadata": {},
   "outputs": [],
   "source": []
  },
  {
   "cell_type": "markdown",
   "metadata": {},
   "source": [
    "<center>Find the factorial of 5</center>"
   ]
  },
  {
   "cell_type": "code",
   "execution_count": null,
   "metadata": {},
   "outputs": [],
   "source": []
  }
 ],
 "metadata": {
  "kernelspec": {
   "display_name": "Python 3",
   "language": "python",
   "name": "python3"
  },
  "language_info": {
   "codemirror_mode": {
    "name": "ipython",
    "version": 3
   },
   "file_extension": ".py",
   "mimetype": "text/x-python",
   "name": "python",
   "nbconvert_exporter": "python",
   "pygments_lexer": "ipython3",
   "version": "3.6.9"
  }
 },
 "nbformat": 4,
 "nbformat_minor": 4
}
